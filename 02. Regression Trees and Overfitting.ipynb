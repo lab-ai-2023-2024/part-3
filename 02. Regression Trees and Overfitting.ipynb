{
 "cells": [
  {
   "cell_type": "code",
   "execution_count": 1,
   "metadata": {
    "slideshow": {
     "slide_type": "skip"
    }
   },
   "outputs": [],
   "source": [
    "# ======================================================================================\n",
    "# Notebook setup\n",
    "# \n",
    "# Run this cell before all others to make sure that the Jupyter notebook works properly\n",
    "# ======================================================================================\n",
    "\n",
    "# Automatically reload all imported modules\n",
    "%load_ext autoreload\n",
    "%autoreload 2\n",
    "\n",
    "import pandas as pd\n",
    "import numpy as np\n",
    "from matplotlib import pyplot as plt\n",
    "\n",
    "import numpy as np\n",
    "import pandas as pd\n",
    "from sklearn.linear_model import LinearRegression\n",
    "from sklearn.model_selection import train_test_split\n",
    "from sklearn.metrics import r2_score\n",
    "\n",
    "figsize = (14, 3.5)"
   ]
  },
  {
   "cell_type": "markdown",
   "metadata": {
    "slideshow": {
     "slide_type": "slide"
    }
   },
   "source": [
    "# Regression Trees"
   ]
  },
  {
   "cell_type": "markdown",
   "metadata": {
    "slideshow": {
     "slide_type": "subslide"
    }
   },
   "source": [
    "## Decision Trees for Regression\n",
    "\n",
    "**Decision Trees can be used for Regression, in which case:**\n",
    "\n",
    "* Leaves are labeled with the _mean_ of the associated examples:\n",
    "\n",
    "$$\n",
    "\\text{mean}(y) = \\frac{1}{n} \\sum_{j = 1}^n y_j\n",
    "$$\n",
    "\n",
    "* We split so as to reduce the weighed _variance_:\n",
    "\n",
    "$$\\begin{align}\n",
    "\\frac{|y_{x_j \\leq \\theta}|}{|y|} \\text{Var}(y_{x_j \\leq \\theta}) +\n",
    "\\frac{|y_{x_j > \\theta}|}{|y|} \\text{Var}(y_{x_j > \\theta}) \\\\\n",
    "\\text{with: } \\text{Var}(y) = \\frac{1}{n} \\sum_{j = 1}^n (y_j - \\text{mean}(y))^2\n",
    "\\end{align}$$"
   ]
  },
  {
   "cell_type": "markdown",
   "metadata": {
    "slideshow": {
     "slide_type": "subslide"
    }
   },
   "source": [
    "## A Practical Example\n",
    "\n",
    "**We will apply DT regression to the housing price dataset**\n",
    "\n",
    "...But first, let's repeat our Linear Regression approach as a baseline:"
   ]
  },
  {
   "cell_type": "code",
   "execution_count": 2,
   "metadata": {},
   "outputs": [
    {
     "name": "stdout",
     "output_type": "stream",
     "text": [
      "R2: 0.691 (training), 0.645 (test)\n"
     ]
    }
   ],
   "source": [
    "data = pd.read_csv('data/real_estate.csv', sep=',')\n",
    "cols = data.columns\n",
    "X = data[cols[:-1]]\n",
    "y = np.log(data[cols[-1]])\n",
    "X_tr, X_ts, y_tr, y_ts = train_test_split(X, y, test_size=0.34, random_state=42)\n",
    "m = LinearRegression()\n",
    "m.fit(X_tr, y_tr);\n",
    "lr_pred_tr, lr_pred_ts = m.predict(X_tr), m.predict(X_ts)\n",
    "print(f'R2: {r2_score(y_tr, lr_pred_tr):.3} (training), {r2_score(y_ts, lr_pred_ts):.3} (test)')"
   ]
  },
  {
   "cell_type": "markdown",
   "metadata": {},
   "source": [
    "We will attempt to improve over these results"
   ]
  },
  {
   "cell_type": "markdown",
   "metadata": {
    "slideshow": {
     "slide_type": "subslide"
    }
   },
   "source": [
    "## A Practical Example\n",
    "\n",
    "**We proceed as usual for scikit learn**\n",
    "\n",
    "First we build a model object:"
   ]
  },
  {
   "cell_type": "code",
   "execution_count": 3,
   "metadata": {},
   "outputs": [],
   "source": [
    "from sklearn.tree import DecisionTreeRegressor\n",
    "rtm = DecisionTreeRegressor()"
   ]
  },
  {
   "cell_type": "markdown",
   "metadata": {},
   "source": [
    "Then we call the `fit` method:"
   ]
  },
  {
   "cell_type": "code",
   "execution_count": 4,
   "metadata": {},
   "outputs": [],
   "source": [
    "rtm.fit(X_tr, y_tr);"
   ]
  },
  {
   "cell_type": "markdown",
   "metadata": {},
   "source": [
    "...And finally we evaluate the performance:"
   ]
  },
  {
   "cell_type": "code",
   "execution_count": 5,
   "metadata": {},
   "outputs": [
    {
     "name": "stdout",
     "output_type": "stream",
     "text": [
      "R2: 0.994 (training), 0.656 (test)\n"
     ]
    }
   ],
   "source": [
    "rtm_pred_tr, rtm_pred_ts = rtm.predict(X_tr), rtm.predict(X_ts)\n",
    "print(f'R2: {r2_score(y_tr, rtm_pred_tr):.3} (training), {r2_score(y_ts, rtm_pred_ts):.3} (test)')"
   ]
  },
  {
   "cell_type": "markdown",
   "metadata": {
    "slideshow": {
     "slide_type": "subslide"
    }
   },
   "source": [
    "## Non-Linear Estimators\n",
    "\n",
    "**The performance gap is very significant**\n",
    "\n",
    "...At least _on the training set_\n",
    "\n",
    "* This happens even if DTs are training using a greedy heuristic\n",
    "* ...While Linear Regression is trained to optimality\n",
    "\n",
    "**The difference is due to _non-linearity_**\n",
    "\n",
    "Linear Regression can capture only linear input-output correlations\n",
    "\n",
    "* We need careful feature engineering to handle non-linearity\n",
    "* ...And still we cannot easily capture non-linar over multiple attributes\n",
    "\n",
    "\n",
    "Decisition Trees have no such restriction\n",
    "\n",
    "* By partitioning the training data\n",
    "* ...They can learn an any piecewise constant input-output relation"
   ]
  },
  {
   "cell_type": "markdown",
   "metadata": {
    "slideshow": {
     "slide_type": "subslide"
    }
   },
   "source": [
    "## Overfitting Issues\n",
    "\n",
    "**That said, our test-set result are not so go: we have _a lot of overfitting_**\n",
    "\n",
    "This is typical with all simple Decision Tree models\n",
    "\n",
    "* DTs are very expressive models (often too much!)\n",
    "* So, we could mitigate the issue by reducing how expressive they are\n",
    "\n",
    "**Typically, we play with the termination condition**\n",
    "\n",
    "* Let's try controlling the maximum tree depth\n",
    "* ...And see what kind of results we get on the training and test set"
   ]
  },
  {
   "cell_type": "code",
   "execution_count": 7,
   "metadata": {},
   "outputs": [],
   "source": [
    "tmp_r2 = []\n",
    "for md in range(1, 61):\n",
    "    tmp_mdl = DecisionTreeRegressor(max_depth=md)\n",
    "    tmp_mdl.fit(X_tr, y_tr)\n",
    "    tmp_y_tr, tmp_y_ts = tmp_mdl.predict(X_tr), tmp_mdl.predict(X_ts)\n",
    "    r2_tr, r2_ts = r2_score(y_tr, tmp_y_tr), r2_score(y_ts, tmp_y_ts)\n",
    "    tmp_r2.append([r2_tr, r2_ts])"
   ]
  },
  {
   "cell_type": "markdown",
   "metadata": {
    "slideshow": {
     "slide_type": "subslide"
    }
   },
   "source": [
    "## Bias vs Variance\n",
    "\n",
    "**Let's plot the R2 values over maximum depth**"
   ]
  },
  {
   "cell_type": "code",
   "execution_count": 8,
   "metadata": {},
   "outputs": [
    {
     "data": {
      "image/png": "[encoded data removed]",
      "text/plain": [
       "<Figure size 1400x350 with 1 Axes>"
      ]
     },
     "metadata": {},
     "output_type": "display_data"
    }
   ],
   "source": [
    "bv = pd.DataFrame(columns=['r2_tr', 'r2_ts'], data=tmp_r2)\n",
    "ax = bv['r2_tr'].plot(figsize=figsize, legend=True)\n",
    "bv['r2_ts'].plot(grid=':', legend=True, xlabel='max depth');"
   ]
  },
  {
   "cell_type": "markdown",
   "metadata": {},
   "source": [
    "* Low-depth trees are less capable of learning the I/O map from the training data\n",
    "* ...But they have more consistent results on unseen examples"
   ]
  },
  {
   "cell_type": "markdown",
   "metadata": {
    "slideshow": {
     "slide_type": "subslide"
    }
   },
   "source": [
    "## Bias vs Variance\n",
    "\n",
    "**Let's plot the R2 values over maximum depth**"
   ]
  },
  {
   "cell_type": "code",
   "execution_count": 9,
   "metadata": {},
   "outputs": [
    {
     "data": {
      "image/png": "[encoded data removed]",
      "text/plain": [
       "<Figure size 1400x350 with 1 Axes>"
      ]
     },
     "metadata": {},
     "output_type": "display_data"
    }
   ],
   "source": [
    "bv = pd.DataFrame(columns=['r2_tr', 'r2_ts'], data=tmp_r2)\n",
    "ax = bv['r2_tr'].plot(figsize=figsize, legend=True)\n",
    "bv['r2_ts'].plot(grid=':', legend=True, xlabel='max depth');"
   ]
  },
  {
   "cell_type": "markdown",
   "metadata": {},
   "source": [
    "* High-depth trees can learn the I/O map from the training data\n",
    "* ...But they become noisy (or even perform worse!) on unseen examples"
   ]
  },
  {
   "cell_type": "markdown",
   "metadata": {
    "slideshow": {
     "slide_type": "subslide"
    }
   },
   "source": [
    "## Bias vs Variance\n",
    "\n",
    "**We call:**\n",
    "\n",
    "* _Bias_ the tendency of an ML model to behave in a certain, stable way\n",
    "* _Variance_ the ability to change the output rapidly with input changes\n",
    "\n",
    "Low-depth leads to higher bias and lower variance (and vice-versa)\n",
    "\n",
    "**Depth optimization with DTs is usually a good idea**\n",
    "\n",
    "...Just _don't_ use the test set for that\n",
    "\n",
    "* Use cross-validation instead!\n",
    "* For the optimization part, we will use a simple grid search"
   ]
  },
  {
   "cell_type": "code",
   "execution_count": 11,
   "metadata": {},
   "outputs": [
    {
     "name": "stdout",
     "output_type": "stream",
     "text": [
      "Best results with: {'max_depth': 3}\n"
     ]
    }
   ],
   "source": [
    "from sklearn.model_selection import GridSearchCV\n",
    "rtm_cv = GridSearchCV(rtm, param_grid={'max_depth': np.arange(2, 30)})\n",
    "rtm_cv.fit(X_tr, y_tr);\n",
    "print(f'Best results with: {rtm_cv.best_params_}')"
   ]
  },
  {
   "cell_type": "markdown",
   "metadata": {
    "slideshow": {
     "slide_type": "subslide"
    }
   },
   "source": [
    "## Results for the Calibrated DT\n",
    "\n",
    "**Let's check the results for our calibrated DT**\n",
    "\n",
    "We can obtain them directly from the `GridSearchCV` object"
   ]
  },
  {
   "cell_type": "code",
   "execution_count": 12,
   "metadata": {
    "slideshow": {
     "slide_type": "-"
    }
   },
   "outputs": [
    {
     "name": "stdout",
     "output_type": "stream",
     "text": [
      "R2: 0.779 (training), 0.656 (test)\n"
     ]
    }
   ],
   "source": [
    "rtm_cv_pred_tr, rtm_cv_pred_ts = rtm_cv.predict(X_tr), rtm_cv.predict(X_ts)\n",
    "print(f'R2: {r2_score(y_tr, rtm_cv_pred_tr):.3} (training), {r2_score(y_ts, rtm_cv_pred_ts):.3} (test)')"
   ]
  },
  {
   "cell_type": "markdown",
   "metadata": {},
   "source": [
    "We have less overfitting, but the results are also slighly worse\n",
    "\n",
    "**The reason is in the bias/variance link**\n",
    "\n",
    "* DTs are very prone to overfitting\n",
    "* We can increase their bias to reduce that risk\n",
    "* ...But typically that has also a big impact on variance\n",
    "\n",
    "**In summary, using _simple_ DTs there is no easy fix for this issue**"
   ]
  }
 ],
 "metadata": {
  "celltoolbar": "Slideshow",
  "kernelspec": {
   "display_name": "Python 3 (ipykernel)",
   "language": "python",
   "name": "python3"
  },
  "language_info": {
   "codemirror_mode": {
    "name": "ipython",
    "version": 3
   },
   "file_extension": ".py",
   "mimetype": "text/x-python",
   "name": "python",
   "nbconvert_exporter": "python",
   "pygments_lexer": "ipython3",
   "version": "3.11.8"
  },
  "rise": {
   "center": false,
   "transition": "fade"
  }
 },
 "nbformat": 4,
 "nbformat_minor": 4
}
