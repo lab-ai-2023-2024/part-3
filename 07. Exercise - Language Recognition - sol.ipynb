{
 "cells": [
  {
   "cell_type": "code",
   "execution_count": 1,
   "metadata": {
    "slideshow": {
     "slide_type": "skip"
    }
   },
   "outputs": [],
   "source": [
    "# ======================================================================================\n",
    "# Notebook setup\n",
    "# \n",
    "# Run this cell before all others to make sure that the Jupyter notebook works properly\n",
    "# ======================================================================================\n",
    "\n",
    "# Automatically reload all imported modules\n",
    "%load_ext autoreload\n",
    "%autoreload 2\n",
    "\n",
    "import pandas as pd\n",
    "import numpy as np\n",
    "from matplotlib import pyplot as plt\n",
    "from sklearn.metrics import accuracy_score\n",
    "from sklearn.metrics import ConfusionMatrixDisplay\n",
    "\n",
    "figsize = (14, 3.5)"
   ]
  },
  {
   "cell_type": "markdown",
   "metadata": {
    "slideshow": {
     "slide_type": "slide"
    }
   },
   "source": [
    "# Language Recognition"
   ]
  },
  {
   "cell_type": "markdown",
   "metadata": {
    "slideshow": {
     "slide_type": "subslide"
    }
   },
   "source": [
    "## Language Recognition\n",
    "\n",
    "**Let's consider the following problem:**\n",
    "\n",
    "* Given a short piece of text (e.g. a sentence)\n",
    "* We want to determine in which language it is written (English/French/Italian)\n",
    "\n",
    "Some examples:\n",
    "\n",
    "> The doctor, who was the family physician, saluted him, but he scarcely took any notice. **--> English**\n",
    "\n",
    "> J'ai couru chez toi, je ne t'ai plus trouvée, tu sais la parole que je t'avais donnée, je la Bens. **--> French**\n",
    "\n",
    "> Conosci tu qualche hossanieh poco scrupoloso che si possa comperare con un bel pugno d'oro? **--> Italian**"
   ]
  },
  {
   "cell_type": "markdown",
   "metadata": {
    "slideshow": {
     "slide_type": "subslide"
    }
   },
   "source": [
    "## A Look at the Data\n",
    "\n",
    "**We can find the data for this problem in the `data` folder**"
   ]
  },
  {
   "cell_type": "code",
   "execution_count": 3,
   "metadata": {},
   "outputs": [
    {
     "name": "stdout",
     "output_type": "stream",
     "text": [
      "SeoulBikeData.csv  lr_test.txt\tlr_train.txt  real_estate.csv  weather.csv\r\n"
     ]
    }
   ],
   "source": [
    "!ls data"
   ]
  },
  {
   "cell_type": "markdown",
   "metadata": {},
   "source": [
    "* Specifically, we care about the `lr_train.txt` and `lr_test.txt` files\n",
    "* Let's have a look at their content:"
   ]
  },
  {
   "cell_type": "code",
   "execution_count": 4,
   "metadata": {},
   "outputs": [
    {
     "name": "stdout",
     "output_type": "stream",
     "text": [
      "The doctor, who was the family physician, saluted him, but he scarcely took any notice.@english\n",
      "\n",
      "Cette réserve faite, et faite en toute sévérité, il nous est impossible de ne pas admirer, qu'ils réussissent ou non, les glorieux combattants de l'avenir, les confesseurs de l'utopie.@french\n",
      "\n",
      "\"I have often wondered,\" he said, \"why there was a kind of a Christian air about this one confectioner's shop.@english\n",
      "\n",
      "Ammantellato accuratamente, egli passeggiava innanzi e indietro, colla testa china sul petto, la fronte aggrottata e gli occhi accesi da una cupa fiamma.@italian\n",
      "\n"
     ]
    }
   ],
   "source": [
    "with open('data/lr_train.txt') as fp:\n",
    "    lines = fp.readlines()[:4]\n",
    "    print('\\n'.join(lines))"
   ]
  },
  {
   "cell_type": "markdown",
   "metadata": {
    "slideshow": {
     "slide_type": "subslide"
    }
   },
   "source": [
    "## Feature Extraction\n",
    "\n",
    "**This is raw text data**\n",
    "\n",
    "What if we want to deal with this using a DT?\n",
    "\n",
    "* We need to find a _numeric encoding_\n",
    "* ...But a one-hot encoding will not longer be enough\n",
    "\n",
    "**The traditional approach in this situation consist in:**\n",
    "\n",
    "* Applying algorithms to the data in order to extract numerical _features_\n",
    "* Use the features as input for the linear model\n",
    "\n",
    "**The task of finding good features is also known as _feature engineering_**\n",
    "\n",
    "It is a critical step in classical Machine Learning\n",
    "\n",
    "* Good features will lead to good results and vice-versa\n",
    "* It can also be a challenging task!\n",
    "\n",
    "The success of Deep Learning is partly due to the possibility to skip this step"
   ]
  },
  {
   "cell_type": "markdown",
   "metadata": {
    "slideshow": {
     "slide_type": "subslide"
    }
   },
   "source": [
    "## Loading the Data\n",
    "\n",
    "**We will rely on a custom module**\n",
    "\n",
    "...This is called `util.pyu` and is available in the `util` folder"
   ]
  },
  {
   "cell_type": "code",
   "execution_count": 5,
   "metadata": {},
   "outputs": [
    {
     "name": "stdout",
     "output_type": "stream",
     "text": [
      "__init__.py  __pycache__  util.py\r\n"
     ]
    }
   ],
   "source": [
    "!ls util"
   ]
  },
  {
   "cell_type": "markdown",
   "metadata": {},
   "source": [
    "From the module, we call the `load_lr_data` function:"
   ]
  },
  {
   "cell_type": "code",
   "execution_count": 6,
   "metadata": {},
   "outputs": [
    {
     "name": "stdout",
     "output_type": "stream",
     "text": [
      "The doctor, who was the family physician, saluted him, but he scarcely took any notice. --> english\n",
      "Cette réserve faite, et faite en toute sévérité, il nous est impossible de ne pas admirer, qu'ils réussissent ou non, les glorieux combattants de l'avenir, les confesseurs de l'utopie. --> french\n",
      "\"I have often wondered,\" he said, \"why there was a kind of a Christian air about this one confectioner's shop. --> english\n"
     ]
    }
   ],
   "source": [
    "from util import util\n",
    "\n",
    "text_train, lang_train = util.load_lr_data('data/lr_train.txt')\n",
    "text_test, lang_test = util.load_lr_data('data/lr_test.txt')\n",
    "\n",
    "for text, lang in zip(text_train[:3], lang_train[:3]):\n",
    "    print(f'{text} --> {lang}')"
   ]
  },
  {
   "cell_type": "markdown",
   "metadata": {
    "slideshow": {
     "slide_type": "subslide"
    }
   },
   "source": [
    "## Feature Extraction in Practice\n",
    "\n",
    "**We can build a function to process all pieces of text**\n",
    "\n",
    "* For each piece of text, we will run simple algorithms and extract numeric features\n",
    "* These features specifically are _not very good_\n",
    "* Later, we will work to improve them!\n",
    "\n",
    "We call the function for both our training and test data"
   ]
  },
  {
   "cell_type": "code",
   "execution_count": 12,
   "metadata": {},
   "outputs": [],
   "source": [
    "import pandas as pd\n",
    "import numpy as np\n",
    "import unidecode\n",
    "from sklearn.preprocessing import StandardScaler\n",
    "\n",
    "# Here is a list of all separators found in the data\n",
    "separators = ['(', '«', ',', '»', u\"'\", '+', '/', '°', ';', '?', '[', '_', ' ', '\\n', '\"', '&', '*', '.', ':', '\\t', '!', ')', '-', 'º', ']', ]\n",
    "separators_as_string = ''.join(separators)\n",
    "\n",
    "def extract_features(text):\n",
    "    # Prepare a data structure to store the results\n",
    "    res = []\n",
    "    names = []\n",
    "    # Loop over all pieces of text\n",
    "    for cnt, lne in enumerate(text):\n",
    "        # PREPARE A ROW FOR THE DATASET\n",
    "        row = []\n",
    "        # Obtain the list of words (this is useful to extract many features)\n",
    "        words = [w.strip(separators_as_string) for w in lne.split()]\n",
    "        words = [w for w in words if len(w) > 0]\n",
    "\n",
    "        # EXTRACT FEATURES\n",
    "        # F0: Number of words\n",
    "        nwords = len(words)\n",
    "        row.append(nwords)\n",
    "        if cnt == 0: names.append('nwords')\n",
    "        # F1: Number of characters per word\n",
    "        row.append(len(lne) / nwords)\n",
    "        if cnt == 0: names.append('ncpw')\n",
    "        # F2: Get number of vowels\n",
    "        # NOTE: \"lower()\" makes the string lower case\n",
    "        nvowels = len([c for c in lne if c.lower() in ('a', 'e', 'i', 'o', 'u', 'y')])\n",
    "        row.append(nvowels)\n",
    "        if cnt == 0: names.append('nvowels')\n",
    "        # F3: Get the number of words starting with \"p\"\n",
    "        nstartp = len([w for w in words if w[0] == 'p'])\n",
    "        row.append(nstartp)\n",
    "        if cnt == 0: names.append('nstartp')\n",
    "        # F4: Get number of occurrences of either \"cookie\" or \"wookie\"\n",
    "        ncwookie = len([w for w in words if w in ['cookie', 'wookie']])\n",
    "        row.append(ncwookie)\n",
    "        if cnt == 0: names.append('ncwookie')\n",
    "        \n",
    "        # APPEND THE ROW\n",
    "        res.append(row)\n",
    "    # Return the result\n",
    "    return pd.DataFrame(columns=names, data= res)\n",
    "\n",
    "\n",
    "x_train = extract_features(text_train)\n",
    "x_test = extract_features(text_test)"
   ]
  },
  {
   "cell_type": "markdown",
   "metadata": {
    "slideshow": {
     "slide_type": "subslide"
    }
   },
   "source": [
    "## Feature Extraction in Practice\n",
    "\n",
    "**We can now have a look at the result**"
   ]
  },
  {
   "cell_type": "code",
   "execution_count": 13,
   "metadata": {},
   "outputs": [
    {
     "name": "stdout",
     "output_type": "stream",
     "text": [
      "The doctor, who was the family physician, saluted him, but he scarcely took any notice.\n",
      "Cette réserve faite, et faite en toute sévérité, il nous est impossible de ne pas admirer, qu'ils réussissent ou non, les glorieux combattants de l'avenir, les confesseurs de l'utopie.\n",
      "\"I have often wondered,\" he said, \"why there was a kind of a Christian air about this one confectioner's shop.\n",
      "Ammantellato accuratamente, egli passeggiava innanzi e indietro, colla testa china sul petto, la fronte aggrottata e gli occhi accesi da una cupa fiamma.\n",
      "--Tu mi chiedevi il perchè ti seppellii in quest'inferno, diss'egli, calcando su ogni parola.\n"
     ]
    },
    {
     "data": {
      "text/html": [
       "<div>\n",
       "<style scoped>\n",
       "    .dataframe tbody tr th:only-of-type {\n",
       "        vertical-align: middle;\n",
       "    }\n",
       "\n",
       "    .dataframe tbody tr th {\n",
       "        vertical-align: top;\n",
       "    }\n",
       "\n",
       "    .dataframe thead th {\n",
       "        text-align: right;\n",
       "    }\n",
       "</style>\n",
       "<table border=\"1\" class=\"dataframe\">\n",
       "  <thead>\n",
       "    <tr style=\"text-align: right;\">\n",
       "      <th></th>\n",
       "      <th>nwords</th>\n",
       "      <th>ncpw</th>\n",
       "      <th>nvowels</th>\n",
       "      <th>nstartp</th>\n",
       "      <th>ncwookie</th>\n",
       "    </tr>\n",
       "  </thead>\n",
       "  <tbody>\n",
       "    <tr>\n",
       "      <th>0</th>\n",
       "      <td>15</td>\n",
       "      <td>5.800000</td>\n",
       "      <td>29</td>\n",
       "      <td>1</td>\n",
       "      <td>0</td>\n",
       "    </tr>\n",
       "    <tr>\n",
       "      <th>1</th>\n",
       "      <td>29</td>\n",
       "      <td>6.344828</td>\n",
       "      <td>60</td>\n",
       "      <td>1</td>\n",
       "      <td>0</td>\n",
       "    </tr>\n",
       "    <tr>\n",
       "      <th>2</th>\n",
       "      <td>20</td>\n",
       "      <td>5.500000</td>\n",
       "      <td>36</td>\n",
       "      <td>0</td>\n",
       "      <td>0</td>\n",
       "    </tr>\n",
       "    <tr>\n",
       "      <th>3</th>\n",
       "      <td>23</td>\n",
       "      <td>6.652174</td>\n",
       "      <td>57</td>\n",
       "      <td>2</td>\n",
       "      <td>0</td>\n",
       "    </tr>\n",
       "    <tr>\n",
       "      <th>4</th>\n",
       "      <td>14</td>\n",
       "      <td>6.642857</td>\n",
       "      <td>31</td>\n",
       "      <td>2</td>\n",
       "      <td>0</td>\n",
       "    </tr>\n",
       "  </tbody>\n",
       "</table>\n",
       "</div>"
      ],
      "text/plain": [
       "   nwords      ncpw  nvowels  nstartp  ncwookie\n",
       "0      15  5.800000       29        1         0\n",
       "1      29  6.344828       60        1         0\n",
       "2      20  5.500000       36        0         0\n",
       "3      23  6.652174       57        2         0\n",
       "4      14  6.642857       31        2         0"
      ]
     },
     "metadata": {},
     "output_type": "display_data"
    }
   ],
   "source": [
    "for text in text_train[:5]: print(text)\n",
    "display(x_train.head())"
   ]
  },
  {
   "cell_type": "markdown",
   "metadata": {},
   "source": [
    "* We now have a usable dataset!\n",
    "* Just don't count on the initial feature to be any good ;-)"
   ]
  },
  {
   "cell_type": "markdown",
   "metadata": {
    "slideshow": {
     "slide_type": "subslide"
    }
   },
   "source": [
    "## Language Recognition using DTs\n",
    "\n",
    "**We now need to take care of the targets**\n",
    "\n",
    "* We have three classes, encoded as string\n",
    "* ...But that's not a problem for DTs!"
   ]
  },
  {
   "cell_type": "code",
   "execution_count": 14,
   "metadata": {},
   "outputs": [],
   "source": [
    "lang_train = pd.Series(lang_train).astype('category')\n",
    "lang_test = pd.Series(lang_test).astype('category')"
   ]
  },
  {
   "cell_type": "markdown",
   "metadata": {},
   "source": [
    "* With Logistic Regression this would _not_ be enough\n",
    "  - ...Since it would introduce an implicit ordering over the classes\n",
    "* But Decision Trees do not care about that!"
   ]
  },
  {
   "cell_type": "markdown",
   "metadata": {
    "slideshow": {
     "slide_type": "subslide"
    }
   },
   "source": [
    "## Language Recognition using DTs\n",
    "\n",
    "**We will train a Random Forest model**\n",
    "\n",
    "...And we will use grid search + cross-validation to tune the depth"
   ]
  },
  {
   "cell_type": "code",
   "execution_count": 15,
   "metadata": {},
   "outputs": [
    {
     "name": "stdout",
     "output_type": "stream",
     "text": [
      "Best results with: {'max_depth': 12}\n"
     ]
    }
   ],
   "source": [
    "from sklearn.ensemble import RandomForestClassifier\n",
    "from sklearn.model_selection import GridSearchCV\n",
    "\n",
    "rfm = RandomForestClassifier(n_estimators=100)\n",
    "param_grid = {'max_depth': np.arange(6, 14, 2)}\n",
    "rfm_cv = GridSearchCV(rfm, param_grid=param_grid)\n",
    "rfm_cv.fit(x_train, lang_train);\n",
    "\n",
    "print(f'Best results with: {rfm_cv.best_params_}')"
   ]
  },
  {
   "cell_type": "markdown",
   "metadata": {
    "slideshow": {
     "slide_type": "subslide"
    }
   },
   "source": [
    "## Evaluation\n",
    "\n",
    "**We can now obtain the predictions and evaluate the model (on the test set)**"
   ]
  },
  {
   "cell_type": "code",
   "execution_count": 16,
   "metadata": {},
   "outputs": [
    {
     "name": "stdout",
     "output_type": "stream",
     "text": [
      "Accuracy on the test set: 0.76\n"
     ]
    },
    {
     "data": {
      "image/png": "[encoded data removed]",
      "text/plain": [
       "<Figure size 640x480 with 2 Axes>"
      ]
     },
     "metadata": {},
     "output_type": "display_data"
    }
   ],
   "source": [
    "y_pred_ts = rfm_cv.predict(x_test)\n",
    "ConfusionMatrixDisplay.from_estimator(rfm_cv, x_test, lang_test, display_labels=lang_test.cat.categories, cmap='Blues');\n",
    "print(f'Accuracy on the test set: {accuracy_score(lang_test, y_pred_ts):.3}')"
   ]
  },
  {
   "cell_type": "markdown",
   "metadata": {},
   "source": [
    "* The matrix tells us _how many_ and _which_ mistakes we making"
   ]
  },
  {
   "cell_type": "markdown",
   "metadata": {
    "slideshow": {
     "slide_type": "subslide"
    }
   },
   "source": [
    "## Attribute Importance\n",
    "\n",
    "**We can use importances to assess the effectiveness of our features**"
   ]
  },
  {
   "cell_type": "code",
   "execution_count": 17,
   "metadata": {},
   "outputs": [
    {
     "data": {
      "image/png": "[encoded data removed]",
      "text/plain": [
       "<Figure size 2000x450 with 1 Axes>"
      ]
     },
     "metadata": {},
     "output_type": "display_data"
    }
   ],
   "source": [
    "rf_is_mean = rfm_cv.best_estimator_.feature_importances_\n",
    "rf_is_std = np.std([t.feature_importances_ for t in rfm_cv.best_estimator_.estimators_], axis=0)\n",
    "sorted_idx = np.argsort(-rf_is_mean)\n",
    "dt_is = pd.Series(data=rf_is_mean[sorted_idx], index=x_train.columns[sorted_idx])\n",
    "dt_is.plot.bar(figsize=figsize, yerr=rf_is_std);"
   ]
  },
  {
   "cell_type": "markdown",
   "metadata": {
    "slideshow": {
     "slide_type": "slide"
    }
   },
   "source": [
    "# Let's Put Everything Together"
   ]
  },
  {
   "cell_type": "markdown",
   "metadata": {
    "slideshow": {
     "slide_type": "subslide"
    }
   },
   "source": [
    "## Let's Put Everything Together\n",
    "\n",
    "**Finally, we can put everything together**\n",
    "\n",
    "We can improve our model by:\n",
    "\n",
    "* Extracting features\n",
    "* Training a model\n",
    "* Checking _which kind of mistakes we are making_\n",
    "* Checking _which features are actually useful_\n",
    "\n",
    "...And the using the collected information to devise new features!\n",
    "\n",
    "**You can find the process for a whole iteration in a single cell, for convenience:** "
   ]
  },
  {
   "cell_type": "code",
   "execution_count": 20,
   "metadata": {},
   "outputs": [
    {
     "name": "stdout",
     "output_type": "stream",
     "text": [
      "Best parameters: {'max_depth': 12}\n",
      "Accuracy on the test set: 0.994\n"
     ]
    },
    {
     "data": {
      "image/png": "[encoded data removed]",
      "text/plain": [
       "<Figure size 640x480 with 2 Axes>"
      ]
     },
     "metadata": {},
     "output_type": "display_data"
    },
    {
     "data": {
      "image/png": "[encoded data removed]",
      "text/plain": [
       "<Figure size 2000x450 with 1 Axes>"
      ]
     },
     "metadata": {},
     "output_type": "display_data"
    }
   ],
   "source": [
    "def extract_features(text):\n",
    "    # Prepare a data structure to store the results\n",
    "    res = []\n",
    "    names = []\n",
    "    # Loop over all pieces of text\n",
    "    for cnt, lne in enumerate(text):\n",
    "        # PREPARE A ROW FOR THE DATASET\n",
    "        row = []\n",
    "        # Obtain the list of words (this is useful to extract many features)\n",
    "        words = [w.strip(separators_as_string) for w in lne.split()]\n",
    "        words = [w for w in words if len(w) > 0]\n",
    "\n",
    "        # EXTRACT FEATURES\n",
    "        nwords = len(words)\n",
    "        # F0: Number of words\n",
    "        d_th = lne.count('th')\n",
    "        d_th / len(lne)\n",
    "        row.append(d_th)\n",
    "        if cnt == 0: names.append('d_th')\n",
    "        # F1: Number of characters per word\n",
    "        row.append(len(lne) / nwords)\n",
    "        if cnt == 0: names.append('ncpw')\n",
    "        # F2: Get number of vowels\n",
    "        # NOTE: \"lower()\" makes the string lower case\n",
    "        dvowels = len([c for c in lne if c.lower() in ('a', 'e', 'i', 'o', 'u', 'y')])\n",
    "        dvowels /= len(lne)\n",
    "        row.append(dvowels)\n",
    "        if cnt == 0: names.append('dvowels')\n",
    "        # F3: Get the number of french characters\n",
    "        d_french_c = len([c for c in lne if c == 'ç'])\n",
    "        d_french_c /= len(lne)\n",
    "        row.append(d_french_c)\n",
    "        if cnt == 0: names.append('d_french_c')\n",
    "        # F4: number of words that end with a vowel\n",
    "        d_end_with_vowel = len([w for w in words\n",
    "                                if w[-1].lower() in ('a', 'e', 'i', 'o', 'u',\n",
    "                                                     'à', 'è', 'é', 'ì', 'ò', 'ù')])\n",
    "        d_end_with_vowel /= len(words)\n",
    "        row.append(d_end_with_vowel)\n",
    "        if cnt == 0: names.append('d_end_with_vowel')\n",
    "        # \n",
    "        d_end_with_e = len([w for w in words\n",
    "                        if w[-1].lower() in ('e')])\n",
    "        d_end_with_e /= len(words)\n",
    "        row.append(d_end_with_e)\n",
    "        if cnt == 0: names.append('d_end_with_e')\n",
    "        # \n",
    "        d_eng_c = len([c for c in lne if c in ('k', 'w', 'h')])\n",
    "        d_eng_c /= len(lne)\n",
    "        row.append(d_eng_c)\n",
    "        if cnt == 0: names.append('d_eng_c')\n",
    "        \n",
    "        # APPEND THE ROW\n",
    "        res.append(row)\n",
    "    # Return the result\n",
    "    return pd.DataFrame(columns=names, data= res)\n",
    "\n",
    "\n",
    "x_train = extract_features(text_train)\n",
    "x_test = extract_features(text_test)\n",
    "\n",
    "# Train a model and calibrate the reguralizer weight\n",
    "rfm = RandomForestClassifier(n_estimators=100)\n",
    "param_grid = {'max_depth': np.arange(6, 14, 2)}\n",
    "rfm_cv = GridSearchCV(rfm, param_grid=param_grid)\n",
    "rfm_cv.fit(x_train, lang_train);\n",
    "print(f'Best parameters: {rfm_cv.best_params_}')\n",
    "\n",
    "# Evaluate accuracy\n",
    "y_pred_ts = rfm_cv.predict(x_test)\n",
    "print(f'Accuracy on the test set: {accuracy_score(lang_test, y_pred_ts):.3}')\n",
    "\n",
    "# Check the confusion matrix\n",
    "ConfusionMatrixDisplay.from_estimator(rfm_cv, x_test, lang_test, display_labels=lang_test.cat.categories, cmap='Blues');\n",
    "\n",
    "# Plot attribute importances\n",
    "rf_is_mean = rfm_cv.best_estimator_.feature_importances_\n",
    "rf_is_std = np.std([t.feature_importances_ for t in rfm_cv.best_estimator_.estimators_], axis=0)\n",
    "sorted_idx = np.argsort(-rf_is_mean)\n",
    "dt_is = pd.Series(data=rf_is_mean[sorted_idx], index=x_train.columns[sorted_idx])\n",
    "plt.figure(figsize=figsize)\n",
    "dt_is.plot.bar(figsize=figsize, yerr=rf_is_std);"
   ]
  }
 ],
 "metadata": {
  "celltoolbar": "Slideshow",
  "kernelspec": {
   "display_name": "Python 3 (ipykernel)",
   "language": "python",
   "name": "python3"
  },
  "language_info": {
   "codemirror_mode": {
    "name": "ipython",
    "version": 3
   },
   "file_extension": ".py",
   "mimetype": "text/x-python",
   "name": "python",
   "nbconvert_exporter": "python",
   "pygments_lexer": "ipython3",
   "version": "3.10.10"
  },
  "rise": {
   "center": false,
   "transition": "fade"
  },
  "widgets": {
   "application/vnd.jupyter.widget-state+json": {
    "state": {},
    "version_major": 2,
    "version_minor": 0
   }
  }
 },
 "nbformat": 4,
 "nbformat_minor": 4
}
